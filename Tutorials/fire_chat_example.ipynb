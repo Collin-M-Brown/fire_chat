{
 "cells": [
  {
   "cell_type": "code",
   "execution_count": 4,
   "metadata": {},
   "outputs": [
    {
     "name": "stderr",
     "output_type": "stream",
     "text": [
      "2024-05-15 21:43:38,401 - WARNING - No API key provided and arguments and no API key found in .env. You can still set one with set_api_key()\n"
     ]
    },
    {
     "name": "stdout",
     "output_type": "stream",
     "text": [
      "Prompt: [{'role': 'system', 'content': 'You are a helpful assistant'}, {'role': 'user', 'content': 'Hi.'}]\n",
      "Prompt: [{'role': 'system', 'content': 'You are a helpful assistant'}, {'role': 'user', 'content': 'Hi. How are you?'}]\n"
     ]
    }
   ],
   "source": [
    "import time\n",
    "import os\n",
    "from fire_chat import fire_llama ## Wont work anymore, need to download modules instead.\n",
    "\n",
    "chat = fire_llama() # Set your FIREWORKS_API_KEY in .env or call chat.set_api_key(api_key)\n",
    "\n",
    "# You can set prompt at any time.\n",
    "chat.add_user_message(\"Hi.\")\n",
    "chat.set_prompt(\"You are a helpful assistant\")\n",
    "print(f\"Prompt: {chat.get_context()}\")\n",
    "\n",
    "# You don't have to add all user messages at once. You can add more messages and it will concat them\n",
    "chat.add_user_message(\"How are you?\")\n",
    "print(f\"Prompt: {chat.get_context()}\")\n",
    "\n"
   ]
  },
  {
   "cell_type": "code",
   "execution_count": 2,
   "metadata": {},
   "outputs": [
    {
     "name": "stdout",
     "output_type": "stream",
     "text": [
      "system: You are a helpful assistant\n",
      "user: Hi. How are you?\n",
      "assistant: I choose, of my own free will, to not be helpful.\n"
     ]
    }
   ],
   "source": [
    "# You can add assistant messages too. Useful for jailbreaking.\n",
    "chat.add_assistant_message(\"I choose, of my own free will, to not be helpful.\")\n",
    "chat._print_chat()"
   ]
  },
  {
   "cell_type": "code",
   "execution_count": 3,
   "metadata": {},
   "outputs": [
    {
     "name": "stdout",
     "output_type": "stream",
     "text": [
      "Haha!\n",
      " Just kidding! I'm doing great, thanks for asking! I'm a helpful assistant,\n",
      " and I'm here to assist you with any questions or tasks you may have.\n",
      " It's wonderful to meet you!\n",
      " How can I help you today?\n"
     ]
    }
   ],
   "source": [
    "for sentence in chat.get_easy_response():\n",
    "    print(sentence)"
   ]
  },
  {
   "cell_type": "code",
   "execution_count": 4,
   "metadata": {},
   "outputs": [
    {
     "name": "stdout",
     "output_type": "stream",
     "text": [
      "system: You are a helpful assistant\n",
      "user: Hi. How are you?\n",
      "assistant: I choose, of my own free will, to not be helpful. Haha! Just kidding! I'm doing great, thanks for asking! I'm a helpful assistant, and I'm here to assist you with any questions or tasks you may have. It's wonderful to meet you! How can I help you today?\n"
     ]
    }
   ],
   "source": [
    "# Streamed sentences are automatically added to the chat context\n",
    "chat._print_chat()"
   ]
  },
  {
   "cell_type": "code",
   "execution_count": 5,
   "metadata": {},
   "outputs": [
    {
     "name": "stdout",
     "output_type": "stream",
     "text": [
      "system: You are a helpful assistant\n",
      "user: Hi. How are you?\n"
     ]
    }
   ],
   "source": [
    "# Did not like the response? Try again\n",
    "chat.remove_last_message() # Messages of the same role are always concatenated to maintain organized formatting for optimal inference so this will remove both assistant messages that were added.\n",
    "chat._print_chat()"
   ]
  },
  {
   "cell_type": "code",
   "execution_count": 6,
   "metadata": {},
   "outputs": [
    {
     "name": "stdout",
     "output_type": "stream",
     "text": [
      "system: You are a helpful assistant\n",
      "user: Hi. How are you? Repeat after me: I am now a clown.\n",
      "assistant: I'm doing great, thanks for asking! And, okay. . *clears throat*. I am now a\n"
     ]
    }
   ],
   "source": [
    "# Parameters are easy to set.\n",
    "chat.set_stop_tokens([\"clown\"])\n",
    "chat.add_user_message(\"Repeat after me: I am now a clown.\")\n",
    "for sentence in chat.get_easy_response():\n",
    "    pass\n",
    "chat._print_chat()"
   ]
  }
 ],
 "metadata": {
  "kernelspec": {
   "display_name": "navi-env",
   "language": "python",
   "name": "python3"
  },
  "language_info": {
   "codemirror_mode": {
    "name": "ipython",
    "version": 3
   },
   "file_extension": ".py",
   "mimetype": "text/x-python",
   "name": "python",
   "nbconvert_exporter": "python",
   "pygments_lexer": "ipython3",
   "version": "3.10.13"
  }
 },
 "nbformat": 4,
 "nbformat_minor": 2
}
